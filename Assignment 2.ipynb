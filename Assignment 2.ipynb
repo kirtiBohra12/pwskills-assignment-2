{
 "cells": [
  {
   "cell_type": "markdown",
   "id": "069f3171-faa9-4866-8fbd-881939c99565",
   "metadata": {},
   "source": [
    "# ASSIGNMENT-2\n",
    "\n",
    "(15 May Assignment)"
   ]
  },
  {
   "cell_type": "markdown",
   "id": "72fce051-8716-4084-bbc5-c9964de2bda2",
   "metadata": {},
   "source": [
    "**Q1.** How do you comment code in Python? What are the different types of comments?"
   ]
  },
  {
   "cell_type": "markdown",
   "id": "44bdd424-41db-472e-b1ee-8396ee86692e",
   "metadata": {},
   "source": [
    "A comment is made by adding a # or ''' in starting of the code.<br>\n",
    "There are two types of comments:<br>\n",
    "(i) Single-line Comment: Commenting a single line of code.<br>\n",
    "(ii) Multi-line Comment: Commenting multiple lines of code."
   ]
  },
  {
   "cell_type": "code",
   "execution_count": null,
   "id": "a0ad798d-95ea-4799-8b55-dada47042360",
   "metadata": {},
   "outputs": [],
   "source": [
    "#This is a single line comment"
   ]
  },
  {
   "cell_type": "code",
   "execution_count": 1,
   "id": "0d44df7f-3a17-4310-899d-16e85aedbd05",
   "metadata": {},
   "outputs": [
    {
     "data": {
      "text/plain": [
       "'This is \\na multi-line\\ncomment'"
      ]
     },
     "execution_count": 1,
     "metadata": {},
     "output_type": "execute_result"
    }
   ],
   "source": [
    "'''This is \n",
    "a multi-line\n",
    "comment'''"
   ]
  },
  {
   "cell_type": "code",
   "execution_count": null,
   "id": "36b26e92-99a2-49e3-93b6-f49f01ea5760",
   "metadata": {},
   "outputs": [],
   "source": [
    "# This comment is \n",
    "# done by selecting\n",
    "# all lines and pressing\n",
    "# ctrl + /"
   ]
  },
  {
   "cell_type": "markdown",
   "id": "6bff8e26-2734-4199-b834-fe919a334e22",
   "metadata": {},
   "source": [
    "**Q2.** What are variables in Python? How do you declare and assign values to variables?"
   ]
  },
  {
   "cell_type": "markdown",
   "id": "756c5c6b-e0c8-4f5a-b4d9-6fd49cc12452",
   "metadata": {},
   "source": [
    "Variables are containers storing some value that can be called by their name.<br>\n",
    "Variables in python are declared and assigned as:"
   ]
  },
  {
   "cell_type": "code",
   "execution_count": null,
   "id": "b6a9a789-9553-4829-9187-83c4d07b396c",
   "metadata": {},
   "outputs": [],
   "source": [
    "a = 10\n",
    "b = \"hello\""
   ]
  },
  {
   "cell_type": "markdown",
   "id": "a8e2a77e-01f5-455a-bbd4-ecdb6ff0bbca",
   "metadata": {},
   "source": [
    "**Q3.** How do you convert one data type to another in Python?"
   ]
  },
  {
   "cell_type": "markdown",
   "id": "ac4e1fda-c926-4a59-9999-0d42102999ef",
   "metadata": {},
   "source": [
    "Data in python can be converted using typecasting.<br>\n",
    "Typecasting can be done using built-in functions such as list(),str(),int(), float(),etc.<br>\n",
    "For Example:"
   ]
  },
  {
   "cell_type": "code",
   "execution_count": 2,
   "id": "f2196295-8132-47b2-a0dc-99ac177fd3f5",
   "metadata": {},
   "outputs": [],
   "source": [
    "a = 10 #initialized as integer"
   ]
  },
  {
   "cell_type": "code",
   "execution_count": 6,
   "id": "189fcea1-cbad-4041-99e7-a7a583e7a99d",
   "metadata": {},
   "outputs": [
    {
     "data": {
      "text/plain": [
       "float"
      ]
     },
     "execution_count": 6,
     "metadata": {},
     "output_type": "execute_result"
    }
   ],
   "source": [
    "b = float(a) #type casting a to float and storing it into a variable b\n",
    "type(b)"
   ]
  },
  {
   "cell_type": "markdown",
   "id": "1e8e36fb-c844-4302-b9d1-06be31ba1c6a",
   "metadata": {},
   "source": [
    "**Q4.** How do you write and execute a Python script from the command line?"
   ]
  },
  {
   "cell_type": "markdown",
   "id": "bca34536-f885-445a-9eff-27b3773859f0",
   "metadata": {},
   "source": [
    "1. In a text editor, create a Python script (e.g., hello_world.py) and write your Python code (e.g., print(\"Hello, World!\")).<br>\n",
    "2. Open a command prompt or terminal.<br>\n",
    "3. Use cd to go to the directory where the Python script is saved: cd path/to/directory.<br>\n",
    "4. Run the script with python filename.py: python hello_world.py. You'll see the output.<br>"
   ]
  },
  {
   "cell_type": "markdown",
   "id": "b2d72e4c-cbfe-4aa9-8fff-1fe94aa22f18",
   "metadata": {},
   "source": [
    "**Q5.** Given a list my_list = [1, 2, 3, 4, 5], write the code to slice the list and obtain the sub-list [2, 3]."
   ]
  },
  {
   "cell_type": "code",
   "execution_count": 7,
   "id": "80d574e4-d3e2-487b-9274-9d8ccfe1640b",
   "metadata": {},
   "outputs": [],
   "source": [
    "my_list = [1, 2, 3, 4, 5]"
   ]
  },
  {
   "cell_type": "code",
   "execution_count": 8,
   "id": "399a5cfa-f19b-4791-b9fd-84dadfa64bb7",
   "metadata": {},
   "outputs": [
    {
     "name": "stdout",
     "output_type": "stream",
     "text": [
      "[2, 3]\n"
     ]
    }
   ],
   "source": [
    "print(my_list[1:3])"
   ]
  },
  {
   "cell_type": "markdown",
   "id": "533ed0b7-de23-40b2-965d-f07507d9a39f",
   "metadata": {},
   "source": [
    "**Q6.** What is a complex number in mathematics, and how is it represented in Python?"
   ]
  },
  {
   "cell_type": "markdown",
   "id": "9b9eb5d4-54c5-492a-8d16-2609e66498ae",
   "metadata": {},
   "source": [
    "A complex number is a mathematical expression in the form a+bi where a and b are real numbers and i is the imaginary unit.<br>\n",
    "In python, a complex number is represented as a+bj, the i(iota) is represented by the letter j."
   ]
  },
  {
   "cell_type": "code",
   "execution_count": 9,
   "id": "a11b2915-29a0-4883-a793-d5b2004a68f9",
   "metadata": {},
   "outputs": [
    {
     "name": "stdout",
     "output_type": "stream",
     "text": [
      "(3+6j)\n"
     ]
    }
   ],
   "source": [
    "c = 3+6j\n",
    "print(c)"
   ]
  },
  {
   "cell_type": "markdown",
   "id": "0cec51fd-3db9-47bd-8f06-ae7b3d2f7917",
   "metadata": {},
   "source": [
    "**Q7.** What is the correct way to declare a variable named age and assign the value 25 to it?"
   ]
  },
  {
   "cell_type": "code",
   "execution_count": 10,
   "id": "9783ccb4-729c-453b-8933-1e3229994050",
   "metadata": {},
   "outputs": [],
   "source": [
    "age = 25"
   ]
  },
  {
   "cell_type": "markdown",
   "id": "53ac60a3-8594-4490-be7f-654d9a7822d9",
   "metadata": {},
   "source": [
    "**Q8.** Declare a variable named price and assign the value 9.99 to it. What data type does this variable belong to?"
   ]
  },
  {
   "cell_type": "code",
   "execution_count": 11,
   "id": "cfa7c094-46ab-4209-a8e1-65a39213362b",
   "metadata": {},
   "outputs": [],
   "source": [
    "price = 9.99"
   ]
  },
  {
   "cell_type": "code",
   "execution_count": 12,
   "id": "6d0e81ef-01d7-4362-87a6-d4dfb393d0f6",
   "metadata": {},
   "outputs": [
    {
     "data": {
      "text/plain": [
       "float"
      ]
     },
     "execution_count": 12,
     "metadata": {},
     "output_type": "execute_result"
    }
   ],
   "source": [
    "type(price)"
   ]
  },
  {
   "cell_type": "markdown",
   "id": "ac8742a8-664d-4f6b-9494-bf177a68760c",
   "metadata": {},
   "source": [
    "**Q9.** Create a variable named name and assign your full name to it as a string. How would you print the value of this variable?"
   ]
  },
  {
   "cell_type": "code",
   "execution_count": 13,
   "id": "2fc41237-a1ae-4222-972e-c346cff70976",
   "metadata": {},
   "outputs": [],
   "source": [
    "name = \"Kirti Bohra\""
   ]
  },
  {
   "cell_type": "code",
   "execution_count": 14,
   "id": "4d0f8adb-318e-42ae-a3e9-fe4515927c75",
   "metadata": {},
   "outputs": [
    {
     "name": "stdout",
     "output_type": "stream",
     "text": [
      "Kirti Bohra\n"
     ]
    }
   ],
   "source": [
    "print(name)"
   ]
  },
  {
   "cell_type": "markdown",
   "id": "0ffce674-e97d-4995-aca2-721b0ff4e721",
   "metadata": {},
   "source": [
    "**Q10.** Given the string \"Hello, World!\", extract the substring \"World\"."
   ]
  },
  {
   "cell_type": "code",
   "execution_count": 16,
   "id": "b96eec1b-17e6-4c04-8187-525b92330e4e",
   "metadata": {},
   "outputs": [],
   "source": [
    "s = \"Hello, World!\""
   ]
  },
  {
   "cell_type": "code",
   "execution_count": 17,
   "id": "5edb9286-8cf5-46b7-98b9-7ab8f69d77ab",
   "metadata": {},
   "outputs": [
    {
     "name": "stdout",
     "output_type": "stream",
     "text": [
      "World\n"
     ]
    }
   ],
   "source": [
    "print(s[7:12])"
   ]
  },
  {
   "cell_type": "markdown",
   "id": "35223410-f09b-4e15-b608-de6ab0b4526b",
   "metadata": {},
   "source": [
    "**Q11.** Create a variable named \"is_student\" and assign it a boolean value indicating whether you are\n",
    "currently a student or not."
   ]
  },
  {
   "cell_type": "code",
   "execution_count": 18,
   "id": "b88e11ee-49e6-4314-9489-8f15e94c88c7",
   "metadata": {},
   "outputs": [],
   "source": [
    "is_student = True"
   ]
  }
 ],
 "metadata": {
  "kernelspec": {
   "display_name": "Python 3 (ipykernel)",
   "language": "python",
   "name": "python3"
  },
  "language_info": {
   "codemirror_mode": {
    "name": "ipython",
    "version": 3
   },
   "file_extension": ".py",
   "mimetype": "text/x-python",
   "name": "python",
   "nbconvert_exporter": "python",
   "pygments_lexer": "ipython3",
   "version": "3.10.8"
  }
 },
 "nbformat": 4,
 "nbformat_minor": 5
}
